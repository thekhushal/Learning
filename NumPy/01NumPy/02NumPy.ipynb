{
 "cells": [
  {
   "cell_type": "markdown",
   "id": "65cff9e2",
   "metadata": {},
   "source": [
    "# ***Indexing and Accessing***"
   ]
  },
  {
   "cell_type": "code",
   "execution_count": 1,
   "id": "4a177903",
   "metadata": {},
   "outputs": [],
   "source": [
    "import numpy as np"
   ]
  },
  {
   "cell_type": "markdown",
   "id": "3b75a016",
   "metadata": {},
   "source": [
    "### **Access Array Elements**\n",
    "- Array indexing is the same as accessing an array element.\n",
    "\n",
    "- You can access an array element by referring to its index number.\n",
    "\n",
    "- The indexes in NumPy arrays start with 0, meaning that the first element has index 0, and the second has index 1 etc."
   ]
  },
  {
   "cell_type": "code",
   "execution_count": 5,
   "id": "889739f9",
   "metadata": {},
   "outputs": [
    {
     "name": "stdout",
     "output_type": "stream",
     "text": [
      "4\n",
      "Sum of first and last element of array =  5\n"
     ]
    }
   ],
   "source": [
    "a = np.array([1,2,3,4])\n",
    "\n",
    "print(a[3])\n",
    "\n",
    "print(\"Sum of first and last element of array = \",a[0] + a[3])"
   ]
  },
  {
   "cell_type": "markdown",
   "id": "b24e245c",
   "metadata": {},
   "source": [
    "### **Access Element from 2D Array**\n",
    "- To access elements from 2-D arrays we can use comma separated integers representing the dimension and the index of the element.\n",
    "\n",
    "- Think of 2-D arrays like a table with rows and columns, where the dimension represents the row and the index represents the column."
   ]
  },
  {
   "cell_type": "code",
   "execution_count": null,
   "id": "fbb13e6e",
   "metadata": {},
   "outputs": [
    {
     "name": "stdout",
     "output_type": "stream",
     "text": [
      "2\n"
     ]
    }
   ],
   "source": [
    "b = np.array([[1,2,3,4,5], [6,7,8,9,0]])\n",
    "\n",
    "# Access the element on the first row, second column:\n",
    "print(b[0,1])\n",
    "\n",
    "# We basically extract the elements from "
   ]
  },
  {
   "cell_type": "markdown",
   "id": "2ebe6670",
   "metadata": {},
   "source": [
    "### **Access 3-D Arrays**"
   ]
  },
  {
   "cell_type": "code",
   "execution_count": null,
   "id": "5a9611d7",
   "metadata": {},
   "outputs": [
    {
     "name": "stdout",
     "output_type": "stream",
     "text": [
      "8\n"
     ]
    }
   ],
   "source": [
    "c = np.array([[[1, 2, 3], [4, 5, 6]], [[7, 8, 9], [10, 11, 12]]])\n",
    "\n",
    "print(c[1, 0, 1])\n",
    "# We got 8 because in the indexing [1,0,1] first number represents the first dimension which has two arrays \n",
    "# [[1, 2, 3], [4, 5, 6]] AND [[7, 8, 9], [10, 11, 12]].\n",
    "# Since our first number is 1, we chose [[7, 8, 9], [10, 11, 12]]\n",
    "\n",
    "# Second number represents Second dimension which also has 2 arrays\n",
    "# [7, 8, 9] AND [10, 11, 12]\n",
    "# Our second number is 0 so we chose [7, 8, 9]\n",
    "\n",
    "# Third number represents the third dimension which has 3 scalars\n",
    "# 8 is the scalar(number) on the 1st index which we chose\n",
    "\n",
    "# And just like this we arrived at 8\n"
   ]
  },
  {
   "cell_type": "markdown",
   "id": "f5dd5057",
   "metadata": {},
   "source": [
    "## **Negative Indexing**"
   ]
  },
  {
   "cell_type": "code",
   "execution_count": 27,
   "id": "e7ec05fa",
   "metadata": {},
   "outputs": [
    {
     "name": "stdout",
     "output_type": "stream",
     "text": [
      "The last element of the first row: 5 \n",
      "\n",
      "The last element of the second row: 10 \n",
      "\n",
      "The second last element of the last row: 14 \n",
      "\n"
     ]
    }
   ],
   "source": [
    "d = np.array([[1,2,3,4,5], [6,7,8,9,10], [11, 12, 13 , 14, 15]])\n",
    "\n",
    "print(f\"The last element of the first row: {d[0, -1]} \\n\")\n",
    "\n",
    "print(f\"The last element of the second row: {d[1, -1]} \\n\")\n",
    "\n",
    "print(f\"The second last element of the last row: {d[-1, -2]} \\n\")"
   ]
  }
 ],
 "metadata": {
  "kernelspec": {
   "display_name": "Python (venv)",
   "language": "python",
   "name": "venv"
  },
  "language_info": {
   "codemirror_mode": {
    "name": "ipython",
    "version": 3
   },
   "file_extension": ".py",
   "mimetype": "text/x-python",
   "name": "python",
   "nbconvert_exporter": "python",
   "pygments_lexer": "ipython3",
   "version": "3.10.12"
  }
 },
 "nbformat": 4,
 "nbformat_minor": 5
}
