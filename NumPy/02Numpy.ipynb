{
 "cells": [
  {
   "cell_type": "markdown",
   "id": "65cff9e2",
   "metadata": {},
   "source": [
    "# ***Indexing and Accessing***"
   ]
  },
  {
   "cell_type": "code",
   "execution_count": 1,
   "id": "4a177903",
   "metadata": {},
   "outputs": [],
   "source": [
    "import numpy as np"
   ]
  },
  {
   "cell_type": "markdown",
   "id": "3b75a016",
   "metadata": {},
   "source": [
    "### **Access Array Elements**\n",
    "- Array indexing is the same as accessing an array element.\n",
    "\n",
    "- You can access an array element by referring to its index number.\n",
    "\n",
    "- The indexes in NumPy arrays start with 0, meaning that the first element has index 0, and the second has index 1 etc."
   ]
  },
  {
   "cell_type": "code",
   "execution_count": 5,
   "id": "889739f9",
   "metadata": {},
   "outputs": [
    {
     "name": "stdout",
     "output_type": "stream",
     "text": [
      "4\n",
      "Sum of first and last element of array =  5\n"
     ]
    }
   ],
   "source": [
    "a = np.array([1,2,3,4])\n",
    "\n",
    "print(a[3])\n",
    "\n",
    "print(\"Sum of first and last element of array = \",a[0] + a[3])"
   ]
  },
  {
   "cell_type": "markdown",
   "id": "b24e245c",
   "metadata": {},
   "source": [
    "### **Access Element from 2D Array**\n",
    "- To access elements from 2-D arrays we can use comma separated integers representing the dimension and the index of the element.\n",
    "\n",
    "- Think of 2-D arrays like a table with rows and columns, where the dimension represents the row and the index represents the column."
   ]
  },
  {
   "cell_type": "code",
   "execution_count": null,
   "id": "fbb13e6e",
   "metadata": {},
   "outputs": [
    {
     "name": "stdout",
     "output_type": "stream",
     "text": [
      "2\n"
     ]
    }
   ],
   "source": [
    "b = np.array([[1,2,3,4,5], [6,7,8,9,0]])\n",
    "\n",
    "# Access the element on the first row, second column:\n",
    "print(b[0,1])\n",
    "\n",
    "# We basically extract the elements from "
   ]
  }
 ],
 "metadata": {
  "kernelspec": {
   "display_name": "Python (venv)",
   "language": "python",
   "name": "venv"
  },
  "language_info": {
   "codemirror_mode": {
    "name": "ipython",
    "version": 3
   },
   "file_extension": ".py",
   "mimetype": "text/x-python",
   "name": "python",
   "nbconvert_exporter": "python",
   "pygments_lexer": "ipython3",
   "version": "3.10.12"
  }
 },
 "nbformat": 4,
 "nbformat_minor": 5
}
