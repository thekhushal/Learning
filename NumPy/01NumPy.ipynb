{
 "cells": [
  {
   "cell_type": "markdown",
   "id": "770a30b6",
   "metadata": {},
   "source": [
    "# Learning NumPy"
   ]
  },
  {
   "cell_type": "code",
   "execution_count": 15,
   "id": "e4cc0515",
   "metadata": {},
   "outputs": [],
   "source": [
    "import numpy as np"
   ]
  },
  {
   "cell_type": "code",
   "execution_count": 16,
   "id": "ab38e55e",
   "metadata": {},
   "outputs": [
    {
     "name": "stdout",
     "output_type": "stream",
     "text": [
      "[1 2 3 4 5]\n",
      "<class 'numpy.ndarray'>\n"
     ]
    }
   ],
   "source": [
    "arr = np.array([1,2,3,4,5])\n",
    "\n",
    "print(arr)\n",
    "\n",
    "print(type(arr))"
   ]
  },
  {
   "cell_type": "markdown",
   "id": "12f2191f",
   "metadata": {},
   "source": [
    "## Dimensions of Array"
   ]
  },
  {
   "cell_type": "markdown",
   "id": "ef0e48d6",
   "metadata": {},
   "source": [
    "#### **0-D Array**\n",
    "- Also known as Scalar"
   ]
  },
  {
   "cell_type": "code",
   "execution_count": 27,
   "id": "97183eaf",
   "metadata": {},
   "outputs": [
    {
     "name": "stdout",
     "output_type": "stream",
     "text": [
      "13\n"
     ]
    }
   ],
   "source": [
    "# A zero dimensional array is also called a scalar in numpy \n",
    "\n",
    "a = np.array(13)\n",
    "\n",
    "print(a)"
   ]
  },
  {
   "cell_type": "markdown",
   "id": "197631b9",
   "metadata": {},
   "source": [
    "#### **1D Array**\n",
    "- An array that has scalars as its elements is called 1-d array."
   ]
  },
  {
   "cell_type": "code",
   "execution_count": 28,
   "id": "37429fff",
   "metadata": {},
   "outputs": [
    {
     "name": "stdout",
     "output_type": "stream",
     "text": [
      "[1 2 3 4 5]\n"
     ]
    }
   ],
   "source": [
    "b = np.array([1,2,3,4,5])\n",
    "print(b)"
   ]
  },
  {
   "cell_type": "markdown",
   "id": "403981c4",
   "metadata": {},
   "source": [
    "#### **2D Array**\n",
    "- An array that has 1-D arrays as its elements is called a 2-D array.\n",
    "- These are often used to represent matrix or 2nd order tensors.\n",
    "\n"
   ]
  },
  {
   "cell_type": "code",
   "execution_count": 25,
   "id": "ac6af960",
   "metadata": {},
   "outputs": [
    {
     "name": "stdout",
     "output_type": "stream",
     "text": [
      "[[1 2 3]\n",
      " [4 5 6]]\n"
     ]
    }
   ],
   "source": [
    "c = np.array([[1,2,3], [4,5,6]])\n",
    "print(c)"
   ]
  },
  {
   "cell_type": "markdown",
   "id": "cadfbe42",
   "metadata": {},
   "source": [
    "### **3D Array**\n",
    "- An array that has 2d array as its elements is called a 3d array\n",
    "- these are often used to represent matrix or 3rd order tensors"
   ]
  },
  {
   "cell_type": "code",
   "execution_count": 24,
   "id": "537ed3ff",
   "metadata": {},
   "outputs": [
    {
     "name": "stdout",
     "output_type": "stream",
     "text": [
      "[[[1 2 3]\n",
      "  [4 5 6]]\n",
      "\n",
      " [[1 2 3]\n",
      "  [4 5 6]]\n",
      "\n",
      " [[1 2 3]\n",
      "  [4 5 6]]]\n"
     ]
    }
   ],
   "source": [
    "d = np.array([[[1,2,3], [4,5,6]], [[1,2,3], [4,5,6]], [[1,2,3], [4,5,6]]])\n",
    "print(d)"
   ]
  },
  {
   "cell_type": "markdown",
   "id": "4548bdc9",
   "metadata": {},
   "source": [
    "## **Checking the dimension of an array**"
   ]
  },
  {
   "cell_type": "code",
   "execution_count": 29,
   "id": "a8e3c3a3",
   "metadata": {},
   "outputs": [
    {
     "name": "stdout",
     "output_type": "stream",
     "text": [
      "0\n",
      "1\n",
      "2\n",
      "3\n"
     ]
    }
   ],
   "source": [
    "print(a.ndim)\n",
    "print(b.ndim)\n",
    "print(c.ndim)\n",
    "print(d.ndim)"
   ]
  }
 ],
 "metadata": {
  "kernelspec": {
   "display_name": "Python (venv)",
   "language": "python",
   "name": "venv"
  },
  "language_info": {
   "codemirror_mode": {
    "name": "ipython",
    "version": 3
   },
   "file_extension": ".py",
   "mimetype": "text/x-python",
   "name": "python",
   "nbconvert_exporter": "python",
   "pygments_lexer": "ipython3",
   "version": "3.10.12"
  }
 },
 "nbformat": 4,
 "nbformat_minor": 5
}
